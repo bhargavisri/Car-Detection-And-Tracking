{
 "cells": [
  {
   "cell_type": "code",
   "execution_count": 5,
   "metadata": {
    "collapsed": false
   },
   "outputs": [],
   "source": [
    "import cv2\n",
    "import numpy as np\n",
    "from matplotlib import pyplot as plt\n",
    "from scipy.cluster.vq import *\n",
    "from sklearn.svm import LinearSVC\n",
    "from sklearn.externals import joblib\n",
    "import math\n",
    "import random\n",
    "from sklearn.metrics import roc_curve, auc\n",
    "from sklearn.decomposition import PCA"
   ]
  },
  {
   "cell_type": "code",
   "execution_count": 6,
   "metadata": {
    "collapsed": true
   },
   "outputs": [],
   "source": [
    "def objectDetection(videofile):\n",
    "    cap = cv2.VideoCapture(videofile)\n",
    "    print(\"The video has  {0} frames\".format(cap.get(cv2.CAP_PROP_FRAME_COUNT)))\n",
    "    features = []\n",
    "\n",
    "    while(True):\n",
    "        # Capture frame-by-frame\n",
    "        ret, frame = cap.read()\n",
    "\n",
    "        if ret == False:\n",
    "            break\n",
    "        \n",
    "        frame = cv2.resize(frame, (250, 250)) \n",
    "        # Our operations on the frame come here\n",
    "        gray = cv2.cvtColor(frame, cv2.COLOR_BGR2GRAY)\n",
    "        \n",
    "        hog = cv2.HOGDescriptor()\n",
    "        h = hog.compute(gray)\n",
    "        features.append(h)\n",
    "        # Display the resulting frame\n",
    "        cv2.imshow('frame',gray)\n",
    "        if cv2.waitKey(1) & 0xFF == ord('q'):\n",
    "            break\n",
    "\n",
    "    samplesize = 250\n",
    "    if(len(features) < samplesize):\n",
    "        samplesize = len(features)\n",
    "        \n",
    "    features = random.sample(features, samplesize)\n",
    "    \n",
    "    print(np.array(features).shape)\n",
    "    \n",
    "    # When everything done, release the capture\n",
    "    cap.release()\n",
    "    cv2.destroyAllWindows()\n",
    "    return features"
   ]
  },
  {
   "cell_type": "code",
   "execution_count": 4,
   "metadata": {
    "collapsed": false
   },
   "outputs": [
    {
     "name": "stdout",
     "output_type": "stream",
     "text": [
      "The video has  251.0 frames\n",
      "(250, 1451520, 1)\n"
     ]
    }
   ],
   "source": [
    "ftrs = objectDetection('normal/2.mov')"
   ]
  },
  {
   "cell_type": "code",
   "execution_count": 7,
   "metadata": {
    "collapsed": false
   },
   "outputs": [],
   "source": [
    "def tracking(videofile):\n",
    "    cap = cv2.VideoCapture(videofile)\n",
    "    print('Tracking features for: {}'.format(videofile))\n",
    "    ret, frame1 = cap.read()\n",
    "    frame1 = cv2.resize(frame1, (400, 400)) \n",
    "    prvs = cv2.cvtColor(frame1,cv2.COLOR_BGR2GRAY)\n",
    "    hsv = np.zeros_like(frame1)\n",
    "    hsv[...,1] = 255\n",
    "    features = []\n",
    "\n",
    "    while(1):\n",
    "        ret, frame2 = cap.read()\n",
    "\n",
    "        if(ret == False):\n",
    "            break\n",
    "\n",
    "        frame2 = cv2.resize(frame2, (400, 400)) \n",
    "        next = cv2.cvtColor(frame2,cv2.COLOR_BGR2GRAY)\n",
    "#         print(np.array(next).shape)\n",
    "\n",
    "        flow = cv2.calcOpticalFlowFarneback(prvs,next, None, 0.5, 3, 15, 3, 5, 1.2, 0)\n",
    "\n",
    "        mag, ang = cv2.cartToPolar(flow[...,0], flow[...,1])\n",
    "        hsv[...,0] = ang*180/np.pi/2\n",
    "        hsv[...,2] = cv2.normalize(mag,None,0,255,cv2.NORM_MINMAX)\n",
    "        rgb = cv2.cvtColor(hsv,cv2.COLOR_HSV2BGR)\n",
    "        \n",
    "        hof, binedges = np.histogram(ang,bins=450,range=(0,360))\n",
    "\n",
    "        features.append(hof[:8])\n",
    "\n",
    "        cv2.imshow('frame2',rgb)\n",
    "         # Display the resulting frame\n",
    "        cv2.imshow('frame3',next)\n",
    "        k = cv2.waitKey(30) & 0xff\n",
    "        if k == 27:\n",
    "            break\n",
    "       \n",
    "        prvs = next   \n",
    "    \n",
    "#     print('Length of features before sampling {}'.format(len(features)))\n",
    "#     print(len(features))\n",
    "    samplesize = 250\n",
    "    if(len(features) < samplesize):\n",
    "        samplesize = len(features)\n",
    "        \n",
    "    features = random.sample(features, samplesize)\n",
    "#     print(features)\n",
    "#     print('Length of features after sampling {}'.format(len(features)))\n",
    "    cap.release()\n",
    "    cv2.destroyAllWindows()\n",
    "    return features"
   ]
  },
  {
   "cell_type": "code",
   "execution_count": 8,
   "metadata": {
    "collapsed": true
   },
   "outputs": [],
   "source": [
    "def generateCodebook(features, k):\n",
    "    print('Generating Code book for all features')\n",
    "    X = np.array(features[0][1])\n",
    "    for path, feature in features[1:]:\n",
    "        X = np.vstack((X, feature))\n",
    "        \n",
    "    pca = PCA(n_components=500)  \n",
    "    X = pca.fit_transform(X)\n",
    "    \n",
    "    print(np.array(X).shape)\n",
    "    codebook, variance = kmeans(X.astype(float), k, 1) \n",
    "    return codebook"
   ]
  },
  {
   "cell_type": "code",
   "execution_count": 9,
   "metadata": {
    "collapsed": false
   },
   "outputs": [],
   "source": [
    "def generateBOW(features, codebook):\n",
    "    print('Create Bag of Visual Words features')\n",
    "    bow = np.zeros((len(features), len(codebook)), \"float32\")\n",
    "    i = 0\n",
    "    for path, feature in features[0:]:\n",
    "        words, d = vq(feature,codebook)\n",
    "        for w in words:\n",
    "            bow[i][w] += 1\n",
    "        i = i + 1\n",
    "    \n",
    "    return bow"
   ]
  },
  {
   "cell_type": "code",
   "execution_count": 10,
   "metadata": {
    "collapsed": true
   },
   "outputs": [],
   "source": [
    "def extractFeatures():\n",
    "    allfeatures = []\n",
    "    f = range(1,11)\n",
    "    k = 500\n",
    "    classoutput = []\n",
    "    i = 1;\n",
    "    while(i < 3):\n",
    "        for fn in f:\n",
    "            if(i == 1):\n",
    "                videofile = 'normal/{}.mov'.format(fn)\n",
    "                classoutput.append(1)\n",
    "            if(i == 2):\n",
    "                videofile = 'abnormal/{}.mov'.format(fn)\n",
    "                classoutput.append(-1)\n",
    "\n",
    "            feature = objectDetection(videofile)\n",
    "            allfeatures.append((videofile,feature))\n",
    "        i = i + 1;\n",
    "\n",
    "    codebook = generateCodebook(allfeatures, k)\n",
    "    bagOfWordsFeatures = generateBOW(allfeatures, codebook)\n",
    "        \n",
    "#     print(bagOfWordsFeatures)\n",
    "    return bagOfWordsFeatures,classoutput,codebook\n",
    "    "
   ]
  },
  {
   "cell_type": "code",
   "execution_count": 11,
   "metadata": {
    "collapsed": true
   },
   "outputs": [],
   "source": [
    "def trainVideo(features, classes):\n",
    "    print('Train the features')\n",
    "    clf = LinearSVC()\n",
    "    clf.fit(features, classes)\n",
    "    return clf"
   ]
  },
  {
   "cell_type": "code",
   "execution_count": 12,
   "metadata": {
    "collapsed": false
   },
   "outputs": [],
   "source": [
    "def testVideo(model, videofile, codebook):\n",
    "    print('Test the features')\n",
    "    feature = objectDetection(videofile)\n",
    "    bagOfWordsFeatures = generateBOW([(videofile,feature)], codebook)\n",
    "    output = model.predict(bagOfWordsFeatures)\n",
    "    if(output == 1):\n",
    "        print('The video has normal flow of traffic')\n",
    "    if(output == -1):\n",
    "        print('The video does not have normal flow of traffic')\n",
    "    "
   ]
  },
  {
   "cell_type": "code",
   "execution_count": 13,
   "metadata": {
    "collapsed": true
   },
   "outputs": [],
   "source": [
    "def main():\n",
    "        features,classoutput, codebook = extractFeatures()\n",
    "        joblib.dump(codebook, 'codebookHOG.sav')\n",
    "        model = trainVideo(features, classoutput)\n",
    "        joblib.dump(model, 'modelHOG.sav')\n",
    "        "
   ]
  },
  {
   "cell_type": "code",
   "execution_count": null,
   "metadata": {
    "collapsed": false
   },
   "outputs": [
    {
     "name": "stdout",
     "output_type": "stream",
     "text": [
      "The video has  324.0 frames\n"
     ]
    }
   ],
   "source": [
    "main()"
   ]
  },
  {
   "cell_type": "code",
   "execution_count": 148,
   "metadata": {
    "collapsed": true
   },
   "outputs": [],
   "source": [
    "def testFromSavedModel(videofile):\n",
    "    model = joblib.load('modelHOG.sav')\n",
    "    codebook = joblib.load('codebookHOG.sav')\n",
    "    testVideo(model,videofile, codebook)\n",
    "    "
   ]
  },
  {
   "cell_type": "code",
   "execution_count": 191,
   "metadata": {
    "collapsed": true
   },
   "outputs": [],
   "source": [
    "def testMetrics():\n",
    "    model = joblib.load('modelHOG.sav')\n",
    "    codebook = joblib.load('codebookHOG.sav')\n",
    "    f = range(1,5)\n",
    "    allfeatures = []\n",
    "    actualoutput = []\n",
    "    \n",
    "    for fn in f:\n",
    "        videofile = 'test/{}.mov'.format(fn)\n",
    "        feature = objectDetection(videofile)\n",
    "        allfeatures.append((videofile,feature))\n",
    "        actualoutput.append(1)\n",
    "        videofile = 'test/2{}.mov'.format(fn)\n",
    "        feature = objectDetection(videofile)\n",
    "        allfeatures.append((videofile,feature))\n",
    "        actualoutput.append(-1)\n",
    "        \n",
    "    bagOfWordsFeatures = generateBOW(allfeatures, codebook)\n",
    "    predictedoutput = model.predict(bagOfWordsFeatures)\n",
    "    return (actualoutput, predictedoutput)\n",
    "    "
   ]
  },
  {
   "cell_type": "code",
   "execution_count": 192,
   "metadata": {
    "collapsed": true
   },
   "outputs": [],
   "source": [
    "def plotROC(actual, predictions):\n",
    "    fpr, tpr, threshold = roc_curve(actual,predictions)\n",
    "    roc_auc = auc(fpr,tpr)\n",
    "    plt.title('ROC')\n",
    "    plt.plot(fpr,tpr,'b', label = 'AUC = %0.2f' % roc_auc)\n",
    "    plt.legend(loc = 'lower right')\n",
    "    plt.plot([0,1], [0,1], 'r--')\n",
    "    plt.xlim([0, 1])\n",
    "    plt.ylim([0, 1])\n",
    "    plt.ylabel('True Positive Rate')\n",
    "    plt.xlabel('False Positive Rate')\n",
    "    plt.show()"
   ]
  },
  {
   "cell_type": "code",
   "execution_count": 177,
   "metadata": {
    "collapsed": false
   },
   "outputs": [
    {
     "name": "stdout",
     "output_type": "stream",
     "text": [
      "Test the features\n",
      "Tracking features for: test/4.mov\n",
      "Create Bag of Visual Words features\n",
      "The video has normal flow of traffic\n"
     ]
    }
   ],
   "source": [
    "testFromSavedModel('test/4.mov')"
   ]
  },
  {
   "cell_type": "code",
   "execution_count": 178,
   "metadata": {
    "collapsed": false
   },
   "outputs": [
    {
     "name": "stdout",
     "output_type": "stream",
     "text": [
      "Test the features\n",
      "Tracking features for: test/24.mov\n",
      "Create Bag of Visual Words features\n",
      "The video does not have normal flow of traffic\n"
     ]
    }
   ],
   "source": [
    "testFromSavedModel('test/24.mov')"
   ]
  },
  {
   "cell_type": "code",
   "execution_count": 175,
   "metadata": {
    "collapsed": false
   },
   "outputs": [
    {
     "name": "stdout",
     "output_type": "stream",
     "text": [
      "Tracking features for: test/23.mov\n",
      "(250, 8)\n"
     ]
    }
   ],
   "source": [
    "ftrs = tracking('test/23.mov')\n",
    "print(np.array(ftrs).shape)"
   ]
  },
  {
   "cell_type": "code",
   "execution_count": 193,
   "metadata": {
    "collapsed": false
   },
   "outputs": [
    {
     "name": "stdout",
     "output_type": "stream",
     "text": [
      "Tracking features for: test/1.mov\n",
      "Tracking features for: test/21.mov\n",
      "Tracking features for: test/2.mov\n",
      "Tracking features for: test/22.mov\n",
      "Tracking features for: test/3.mov\n",
      "Tracking features for: test/23.mov\n",
      "Tracking features for: test/4.mov\n",
      "Tracking features for: test/24.mov\n",
      "Create Bag of Visual Words features\n"
     ]
    }
   ],
   "source": [
    "actual, predictions = testMetrics()"
   ]
  },
  {
   "cell_type": "code",
   "execution_count": 194,
   "metadata": {
    "collapsed": false
   },
   "outputs": [
    {
     "data": {
      "image/png": "[encoded data removed]",
      "text/plain": [
       "<matplotlib.figure.Figure at 0x116764b00>"
      ]
     },
     "metadata": {},
     "output_type": "display_data"
    }
   ],
   "source": [
    "plotROC(actual, predictions)"
   ]
  },
  {
   "cell_type": "code",
   "execution_count": null,
   "metadata": {
    "collapsed": true
   },
   "outputs": [],
   "source": []
  }
 ],
 "metadata": {
  "anaconda-cloud": {},
  "kernelspec": {
   "display_name": "Python [conda root]",
   "language": "python",
   "name": "conda-root-py"
  },
  "language_info": {
   "codemirror_mode": {
    "name": "ipython",
    "version": 3
   },
   "file_extension": ".py",
   "mimetype": "text/x-python",
   "name": "python",
   "nbconvert_exporter": "python",
   "pygments_lexer": "ipython3",
   "version": "3.5.2"
  }
 },
 "nbformat": 4,
 "nbformat_minor": 1
}
